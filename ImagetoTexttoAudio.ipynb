{
  "nbformat": 4,
  "nbformat_minor": 0,
  "metadata": {
    "colab": {
      "provenance": [],
      "authorship_tag": "ABX9TyP29YRyBG0jJgT5NCq8Z7Tr",
      "include_colab_link": true
    },
    "kernelspec": {
      "name": "python3",
      "display_name": "Python 3"
    },
    "language_info": {
      "name": "python"
    }
  },
  "cells": [
    {
      "cell_type": "markdown",
      "metadata": {
        "id": "view-in-github",
        "colab_type": "text"
      },
      "source": [
        "<a href=\"https://colab.research.google.com/github/Khushpreet-maan/Image-to-Text-to-Audio/blob/main/ImagetoTexttoAudio.ipynb\" target=\"_parent\"><img src=\"https://colab.research.google.com/assets/colab-badge.svg\" alt=\"Open In Colab\"/></a>"
      ]
    },
    {
      "cell_type": "code",
      "source": [
        "import cv2\n",
        "import pytesseract\n",
        "from PIL import Image\n",
        "\n",
        "# OPTIONAL: If you're on Windows and need to set Tesseract path manually\n",
        "# pytesseract.pytesseract.tesseract_cmd = r'C:\\Program Files\\Tesseract-OCR\\tesseract.exe'\n",
        "\n",
        "# Load the image using OpenCV (more reliable)\n",
        "image = cv2.imread('img.jpg')\n",
        "\n",
        "# Convert to RGB (as OpenCV loads in BGR)\n",
        "image_rgb = cv2.cvtColor(image, cv2.COLOR_BGR2RGB)\n",
        "\n",
        "# Convert to PIL Image\n",
        "pil_img = Image.fromarray(image_rgb)\n",
        "\n",
        "# Extract text using Tesseract OCR\n",
        "text = pytesseract.image_to_string(pil_img)\n",
        "\n",
        "print(\"Extracted Text:\\n\", text)\n"
      ],
      "metadata": {
        "colab": {
          "base_uri": "https://localhost:8080/"
        },
        "id": "RijIEmJ-26d_",
        "outputId": "793f60bf-483b-4d22-a8a6-41324536c707"
      },
      "execution_count": 22,
      "outputs": [
        {
          "output_type": "stream",
          "name": "stdout",
          "text": [
            "Extracted Text:\n",
            " “WHEN YOU FEEL\n",
            "LIKE QUITTING\n",
            "THINK ABOUT\n",
            "\n",
            "WHY YOU\n",
            "STARTED.”\n",
            "\f\n"
          ]
        }
      ]
    },
    {
      "cell_type": "code",
      "source": [
        "import gtts\n",
        "tts = gtts.gTTS(text)\n",
        "tts.save(\"quote.mp3\")"
      ],
      "metadata": {
        "id": "eMoH20TP3xaW"
      },
      "execution_count": 25,
      "outputs": []
    }
  ]
}